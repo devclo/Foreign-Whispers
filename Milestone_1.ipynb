{
  "cells": [
    {
      "cell_type": "markdown",
      "metadata": {
        "id": "view-in-github",
        "colab_type": "text"
      },
      "source": [
        "<a href=\"https://colab.research.google.com/github/devclo/Intro-To-Artificial-Intelligence/blob/Foreign-Whipsers/Milestone_1.ipynb\" target=\"_parent\"><img src=\"https://colab.research.google.com/assets/colab-badge.svg\" alt=\"Open In Colab\"/></a>"
      ]
    },
    {
      "cell_type": "markdown",
      "metadata": {
        "id": "O0QtCxXg95PH"
      },
      "source": [
        "**Milestone #1\n"
      ]
    },
    {
      "cell_type": "code",
      "execution_count": null,
      "metadata": {
        "colab": {
          "base_uri": "https://localhost:8080/"
        },
        "id": "ssp7TJYX95PK",
        "outputId": "8c420a76-ffed-4e23-956a-9b7f43405268"
      },
      "outputs": [
        {
          "name": "stdout",
          "output_type": "stream",
          "text": [
            "Collecting yt_dlp\n",
            "  Downloading yt_dlp-2023.10.13-py2.py3-none-any.whl (3.1 MB)\n",
            "\u001b[2K     \u001b[90m━━━━━━━━━━━━━━━━━━━━━━━━━━━━━━━━━━━━━━━━\u001b[0m \u001b[32m3.1/3.1 MB\u001b[0m \u001b[31m29.1 MB/s\u001b[0m eta \u001b[36m0:00:00\u001b[0m\n",
            "\u001b[?25hCollecting mutagen (from yt_dlp)\n",
            "  Downloading mutagen-1.47.0-py3-none-any.whl (194 kB)\n",
            "\u001b[2K     \u001b[90m━━━━━━━━━━━━━━━━━━━━━━━━━━━━━━━━━━━━━━━━\u001b[0m \u001b[32m194.4/194.4 kB\u001b[0m \u001b[31m25.0 MB/s\u001b[0m eta \u001b[36m0:00:00\u001b[0m\n",
            "\u001b[?25hCollecting pycryptodomex (from yt_dlp)\n",
            "  Downloading pycryptodomex-3.19.0-cp35-abi3-manylinux_2_17_x86_64.manylinux2014_x86_64.whl (2.1 MB)\n",
            "\u001b[2K     \u001b[90m━━━━━━━━━━━━━━━━━━━━━━━━━━━━━━━━━━━━━━━━\u001b[0m \u001b[32m2.1/2.1 MB\u001b[0m \u001b[31m97.0 MB/s\u001b[0m eta \u001b[36m0:00:00\u001b[0m\n",
            "\u001b[?25hCollecting websockets (from yt_dlp)\n",
            "  Downloading websockets-12.0-cp310-cp310-manylinux_2_5_x86_64.manylinux1_x86_64.manylinux_2_17_x86_64.manylinux2014_x86_64.whl (130 kB)\n",
            "\u001b[2K     \u001b[90m━━━━━━━━━━━━━━━━━━━━━━━━━━━━━━━━━━━━━━━━\u001b[0m \u001b[32m130.2/130.2 kB\u001b[0m \u001b[31m17.4 MB/s\u001b[0m eta \u001b[36m0:00:00\u001b[0m\n",
            "\u001b[?25hRequirement already satisfied: certifi in /usr/local/lib/python3.10/dist-packages (from yt_dlp) (2023.7.22)\n",
            "Collecting brotli (from yt_dlp)\n",
            "  Downloading Brotli-1.1.0-cp310-cp310-manylinux_2_5_x86_64.manylinux1_x86_64.manylinux_2_12_x86_64.manylinux2010_x86_64.whl (3.0 MB)\n",
            "\u001b[2K     \u001b[90m━━━━━━━━━━━━━━━━━━━━━━━━━━━━━━━━━━━━━━━━\u001b[0m \u001b[32m3.0/3.0 MB\u001b[0m \u001b[31m84.4 MB/s\u001b[0m eta \u001b[36m0:00:00\u001b[0m\n",
            "\u001b[?25hInstalling collected packages: brotli, websockets, pycryptodomex, mutagen, yt_dlp\n",
            "Successfully installed brotli-1.1.0 mutagen-1.47.0 pycryptodomex-3.19.0 websockets-12.0 yt_dlp-2023.10.13\n"
          ]
        }
      ],
      "source": [
        "!pip install yt_dlp"
      ]
    },
    {
      "cell_type": "code",
      "execution_count": null,
      "metadata": {
        "id": "5eVW7B6T95PL"
      },
      "outputs": [],
      "source": [
        "import yt_dlp as ydlp\n",
        "import random\n",
        "import time"
      ]
    },
    {
      "cell_type": "code",
      "execution_count": null,
      "metadata": {
        "id": "RLgAkRzW95PL"
      },
      "outputs": [],
      "source": [
        "# This will be our global list to store the video titles.\n",
        "downloaded_videos = []\n",
        "\n",
        "def my_hook(d):\n",
        "    if d['status'] == 'downloading':\n",
        "        # You can add more detailed progress information here if needed\n",
        "        print(f\"\\rDownloading: {d['_percent_str']} % of {d['_total_bytes_str']}\", end='')\n",
        "\n",
        "    if d['status'] == 'finished':\n",
        "        print(\"\\nDone downloading, now converting ...\")\n",
        "\n",
        "def video_and_captions_download(playlist_url, number_of_videos=10):\n",
        "    \"\"\"Download videos and captions from a YouTube playlist.\"\"\"\n",
        "\n",
        "    global downloaded_videos\n",
        "    #Saving this for later, in case I want to use it for another project\n",
        "    ydl_opts = {\n",
        "        'postprocessors': [{\n",
        "            'key': 'FFmpegVideoConvertor',\n",
        "            'preferedformat': 'mp4',\n",
        "        },\n",
        "        {\n",
        "            'key': 'FFmpegSubtitlesConvertor',\n",
        "            'format': 'srt'\n",
        "        }],\n",
        "        'writeautomaticsub': True,\n",
        "        'subtitleslangs': ['en'],\n",
        "        'quiet': False,\n",
        "        'outtmpl': '%(title)s.%(ext)s',\n",
        "        'noplaylist': False,\n",
        "        'progress_hooks': [my_hook],\n",
        "        'extract_flat': True\n",
        "    }\n",
        "\n",
        "    with ydlp.YoutubeDL(ydl_opts) as ydl:\n",
        "        result = ydl.extract_info(playlist_url, download=False)\n",
        "\n",
        "        if 'entries' in result:\n",
        "            videos = result['entries']\n",
        "            random.shuffle(videos)\n",
        "            selected_videos = videos[:number_of_videos]\n",
        "\n",
        "            for video in selected_videos:\n",
        "                try:\n",
        "                    time.sleep(5)\n",
        "                    print(f'\\n\\033[1mDownloading video: {video[\"title\"]}\\033[0m\\n')\n",
        "                    ydl.download([video['url']])\n",
        "\n",
        "                    # Append the video title to our list\n",
        "                    downloaded_videos.append(video['title'])\n",
        "\n",
        "                except Exception as e:\n",
        "                    print(f\"\\nAn error occurred while downloading video: {video['title']}. Error: {str(e)}\")\n",
        "\n",
        "            print(\"\\nDownload completed!\")\n",
        "        else:\n",
        "            print(\"No entries found in the playlist.\")\n",
        "\n"
      ]
    },
    {
      "cell_type": "code",
      "execution_count": 6,
      "metadata": {
        "colab": {
          "base_uri": "https://localhost:8080/"
        },
        "id": "OVh7zWd095PM",
        "outputId": "f0e26d6b-d1b5-4b6c-aa81-c80441785fe6"
      },
      "outputs": [
        {
          "metadata": {
            "tags": null
          },
          "name": "stdout",
          "output_type": "stream",
          "text": [
            "[youtube:tab] Extracting URL: https://www.youtube.com/playlist?list=PLI1yx5Z0Lrv77D_g1tvF9u3FVqnrNbCRL\n",
            "[youtube:tab] PLI1yx5Z0Lrv77D_g1tvF9u3FVqnrNbCRL: Downloading webpage\n"
          ]
        },
        {
          "metadata": {
            "tags": null
          },
          "name": "stderr",
          "output_type": "stream",
          "text": [
            "WARNING: [youtube:tab] YouTube said: INFO - 8 unavailable videos are hidden\n"
          ]
        },
        {
          "metadata": {
            "tags": null
          },
          "name": "stdout",
          "output_type": "stream",
          "text": [
            "[youtube:tab] PLI1yx5Z0Lrv77D_g1tvF9u3FVqnrNbCRL: Redownloading playlist API JSON with unavailable videos\n",
            "[download] Downloading playlist: Interviews\n",
            "[youtube:tab] PLI1yx5Z0Lrv77D_g1tvF9u3FVqnrNbCRL page 1: Downloading API JSON\n"
          ]
        },
        {
          "metadata": {
            "tags": null
          },
          "name": "stderr",
          "output_type": "stream",
          "text": [
            "WARNING: [youtube:tab] Incomplete data received. Retrying (1/3)...\n"
          ]
        },
        {
          "metadata": {
            "tags": null
          },
          "name": "stdout",
          "output_type": "stream",
          "text": [
            "[youtube:tab] PLI1yx5Z0Lrv77D_g1tvF9u3FVqnrNbCRL page 1: Downloading API JSON\n"
          ]
        },
        {
          "metadata": {
            "tags": null
          },
          "name": "stderr",
          "output_type": "stream",
          "text": [
            "WARNING: [youtube:tab] Incomplete data received. Retrying (2/3)...\n"
          ]
        },
        {
          "metadata": {
            "tags": null
          },
          "name": "stdout",
          "output_type": "stream",
          "text": [
            "[youtube:tab] PLI1yx5Z0Lrv77D_g1tvF9u3FVqnrNbCRL page 1: Downloading API JSON\n"
          ]
        },
        {
          "metadata": {
            "tags": null
          },
          "name": "stderr",
          "output_type": "stream",
          "text": [
            "WARNING: [youtube:tab] Incomplete data received. Retrying (3/3)...\n"
          ]
        },
        {
          "metadata": {
            "tags": null
          },
          "name": "stdout",
          "output_type": "stream",
          "text": [
            "[youtube:tab] PLI1yx5Z0Lrv77D_g1tvF9u3FVqnrNbCRL page 1: Downloading API JSON\n"
          ]
        },
        {
          "metadata": {
            "tags": null
          },
          "name": "stderr",
          "output_type": "stream",
          "text": [
            "WARNING: [youtube:tab] Incomplete data received. Giving up after 3 retries\n"
          ]
        },
        {
          "metadata": {
            "tags": null
          },
          "name": "stdout",
          "output_type": "stream",
          "text": [
            "[youtube:tab] Playlist Interviews: Downloading 95 items of 95\n",
            "[download] Downloading item 1 of 95\n",
            "[download] Downloading item 2 of 95\n",
            "[download] Downloading item 3 of 95\n",
            "[download] Downloading item 4 of 95\n",
            "[download] Downloading item 5 of 95\n",
            "[download] Downloading item 6 of 95\n",
            "[download] Downloading item 7 of 95\n",
            "[download] Downloading item 8 of 95\n",
            "[download] Downloading item 9 of 95\n",
            "[download] Downloading item 10 of 95\n",
            "[download] Downloading item 11 of 95\n",
            "[download] Downloading item 12 of 95\n",
            "[download] Downloading item 13 of 95\n",
            "[download] Downloading item 14 of 95\n",
            "[download] Downloading item 15 of 95\n",
            "[download] Downloading item 16 of 95\n",
            "[download] Downloading item 17 of 95\n",
            "[download] Downloading item 18 of 95\n",
            "[download] Downloading item 19 of 95\n",
            "[download] Downloading item 20 of 95\n",
            "[download] Downloading item 21 of 95\n",
            "[download] Downloading item 22 of 95\n",
            "[download] Downloading item 23 of 95\n",
            "[download] Downloading item 24 of 95\n",
            "[download] Downloading item 25 of 95\n",
            "[download] Downloading item 26 of 95\n",
            "[download] Downloading item 27 of 95\n",
            "[download] Downloading item 28 of 95\n",
            "[download] Downloading item 29 of 95\n",
            "[download] Downloading item 30 of 95\n",
            "[download] Downloading item 31 of 95\n",
            "[download] Downloading item 32 of 95\n",
            "[download] Downloading item 33 of 95\n",
            "[download] Downloading item 34 of 95\n",
            "[download] Downloading item 35 of 95\n",
            "[download] Downloading item 36 of 95\n",
            "[download] Downloading item 37 of 95\n",
            "[download] Downloading item 38 of 95\n",
            "[download] Downloading item 39 of 95\n",
            "[download] Downloading item 40 of 95\n",
            "[download] Downloading item 41 of 95\n",
            "[download] Downloading item 42 of 95\n",
            "[download] Downloading item 43 of 95\n",
            "[download] Downloading item 44 of 95\n",
            "[download] Downloading item 45 of 95\n",
            "[download] Downloading item 46 of 95\n",
            "[download] Downloading item 47 of 95\n",
            "[download] Downloading item 48 of 95\n",
            "[download] Downloading item 49 of 95\n",
            "[download] Downloading item 50 of 95\n",
            "[download] Downloading item 51 of 95\n",
            "[download] Downloading item 52 of 95\n",
            "[download] Downloading item 53 of 95\n",
            "[download] Downloading item 54 of 95\n",
            "[download] Downloading item 55 of 95\n",
            "[download] Downloading item 56 of 95\n",
            "[download] Downloading item 57 of 95\n",
            "[download] Downloading item 58 of 95\n",
            "[download] Downloading item 59 of 95\n",
            "[download] Downloading item 60 of 95\n",
            "[download] Downloading item 61 of 95\n",
            "[download] Downloading item 62 of 95\n",
            "[download] Downloading item 63 of 95\n",
            "[download] Downloading item 64 of 95\n",
            "[download] Downloading item 65 of 95\n",
            "[download] Downloading item 66 of 95\n",
            "[download] Downloading item 67 of 95\n",
            "[download] Downloading item 68 of 95\n",
            "[download] Downloading item 69 of 95\n",
            "[download] Downloading item 70 of 95\n",
            "[download] Downloading item 71 of 95\n",
            "[download] Downloading item 72 of 95\n",
            "[download] Downloading item 73 of 95\n",
            "[download] Downloading item 74 of 95\n",
            "[download] Downloading item 75 of 95\n",
            "[download] Downloading item 76 of 95\n",
            "[download] Downloading item 77 of 95\n",
            "[download] Downloading item 78 of 95\n",
            "[download] Downloading item 79 of 95\n",
            "[download] Downloading item 80 of 95\n",
            "[download] Downloading item 81 of 95\n",
            "[download] Downloading item 82 of 95\n",
            "[download] Downloading item 83 of 95\n",
            "[download] Downloading item 84 of 95\n",
            "[download] Downloading item 85 of 95\n",
            "[download] Downloading item 86 of 95\n",
            "[download] Downloading item 87 of 95\n",
            "[download] Downloading item 88 of 95\n",
            "[download] Downloading item 89 of 95\n",
            "[download] Downloading item 90 of 95\n",
            "[download] Downloading item 91 of 95\n",
            "[download] Downloading item 92 of 95\n",
            "[download] Downloading item 93 of 95\n",
            "[download] Downloading item 94 of 95\n",
            "[download] Downloading item 95 of 95\n",
            "[download] Finished downloading playlist: Interviews\n",
            "\n",
            "\u001b[1mDownloading video: Charles Barkley: The 60 Minutes Interview\u001b[0m\n",
            "\n",
            "[youtube] Extracting URL: https://www.youtube.com/watch?v=YBY-CdpH0CA\n",
            "[youtube] YBY-CdpH0CA: Downloading webpage\n",
            "[youtube] YBY-CdpH0CA: Downloading ios player API JSON\n",
            "[youtube] YBY-CdpH0CA: Downloading android player API JSON\n",
            "[youtube] YBY-CdpH0CA: Downloading m3u8 information\n",
            "[info] YBY-CdpH0CA: Downloading subtitles: en\n",
            "[info] YBY-CdpH0CA: Downloading 1 format(s): 616+251\n",
            "[info] Writing video subtitles to: Charles Barkley： The 60 Minutes Interview.en.vtt\n",
            "[download] Destination: Charles Barkley： The 60 Minutes Interview.en.vtt\n",
            "[download] 100% of  105.14KiB in 00:00:00 at 2.17MiB/s\n",
            "Done downloading, now converting ...\n",
            "\n",
            "[hlsnative] Downloading m3u8 manifest\n",
            "[hlsnative] Total fragments: 156\n",
            "[download] Destination: Charles Barkley： The 60 Minutes Interview.f616.mp4\n",
            "[download] 100% of  183.45MiB in 00:00:28 at 6.48MiB/s                   \n",
            "Done downloading, now converting ...\n",
            "\n",
            "[download] Destination: Charles Barkley： The 60 Minutes Interview.f251.webm\n",
            "[download] 100% of   11.16MiB in 00:00:00 at 41.41MiB/s  \n",
            "Done downloading, now converting ...\n",
            "\n",
            "[Merger] Merging formats into \"Charles Barkley： The 60 Minutes Interview.webm\"\n",
            "Deleting original file Charles Barkley： The 60 Minutes Interview.f616.mp4 (pass -k to keep)\n",
            "Deleting original file Charles Barkley： The 60 Minutes Interview.f251.webm (pass -k to keep)\n",
            "[VideoConvertor] Converting video from webm to mp4; Destination: Charles Barkley： The 60 Minutes Interview.mp4\n",
            "Deleting original file Charles Barkley： The 60 Minutes Interview.webm (pass -k to keep)\n",
            "[SubtitlesConvertor] Converting subtitles\n",
            "Deleting original file Charles Barkley： The 60 Minutes Interview.en.vtt (pass -k to keep)\n",
            "\n",
            "\u001b[1mDownloading video: Trevor Noah: The 60 Minutes Interview\u001b[0m\n",
            "\n",
            "[youtube] Extracting URL: https://www.youtube.com/watch?v=8_gyL3o6dIs\n",
            "[youtube] 8_gyL3o6dIs: Downloading webpage\n",
            "[youtube] 8_gyL3o6dIs: Downloading ios player API JSON\n",
            "[youtube] 8_gyL3o6dIs: Downloading android player API JSON\n",
            "[youtube] 8_gyL3o6dIs: Downloading m3u8 information\n",
            "[info] 8_gyL3o6dIs: Downloading subtitles: en\n",
            "[info] 8_gyL3o6dIs: Downloading 1 format(s): 616+251\n",
            "[info] Writing video subtitles to: Trevor Noah： The 60 Minutes Interview.en.vtt\n",
            "[download] Destination: Trevor Noah： The 60 Minutes Interview.en.vtt\n",
            "[download] 100% of  113.90KiB in 00:00:00 at 2.72MiB/s\n",
            "Done downloading, now converting ...\n",
            "\n",
            "[hlsnative] Downloading m3u8 manifest\n",
            "[hlsnative] Total fragments: 160\n",
            "[download] Destination: Trevor Noah： The 60 Minutes Interview.f616.mp4\n",
            "[download] 100% of  171.57MiB in 00:00:22 at 7.68MiB/s                   \n",
            "Done downloading, now converting ...\n",
            "\n",
            "[download] Destination: Trevor Noah： The 60 Minutes Interview.f251.webm\n",
            "[download] 100% of   10.60MiB in 00:00:01 at 9.84MiB/s   \n",
            "Done downloading, now converting ...\n",
            "\n",
            "[Merger] Merging formats into \"Trevor Noah： The 60 Minutes Interview.webm\"\n",
            "Deleting original file Trevor Noah： The 60 Minutes Interview.f616.mp4 (pass -k to keep)\n",
            "Deleting original file Trevor Noah： The 60 Minutes Interview.f251.webm (pass -k to keep)\n",
            "[VideoConvertor] Converting video from webm to mp4; Destination: Trevor Noah： The 60 Minutes Interview.mp4\n",
            "Deleting original file Trevor Noah： The 60 Minutes Interview.webm (pass -k to keep)\n",
            "[SubtitlesConvertor] Converting subtitles\n",
            "Deleting original file Trevor Noah： The 60 Minutes Interview.en.vtt (pass -k to keep)\n",
            "\n",
            "\u001b[1mDownloading video: President Donald Trump: The 60 Minutes 2020 Election Interview\u001b[0m\n",
            "\n",
            "[youtube] Extracting URL: https://www.youtube.com/watch?v=FdAh2HJ98WE\n",
            "[youtube] FdAh2HJ98WE: Downloading webpage\n",
            "[youtube] FdAh2HJ98WE: Downloading ios player API JSON\n",
            "[youtube] FdAh2HJ98WE: Downloading android player API JSON\n",
            "[youtube] FdAh2HJ98WE: Downloading m3u8 information\n",
            "[info] FdAh2HJ98WE: Downloading subtitles: en\n",
            "[info] FdAh2HJ98WE: Downloading 1 format(s): 616+251\n",
            "[info] Writing video subtitles to: President Donald Trump： The 60 Minutes 2020 Election Interview.en.vtt\n",
            "[download] Destination: President Donald Trump： The 60 Minutes 2020 Election Interview.en.vtt\n",
            "[download] 100% of  177.07KiB in 00:00:00 at 3.56MiB/s\n",
            "Done downloading, now converting ...\n",
            "\n",
            "[hlsnative] Downloading m3u8 manifest\n",
            "[hlsnative] Total fragments: 238\n",
            "[download] Destination: President Donald Trump： The 60 Minutes 2020 Election Interview.f616.mp4\n",
            "[download] 100% of  270.67MiB in 00:01:12 at 3.72MiB/s                   \n",
            "Done downloading, now converting ...\n",
            "\n",
            "[download] Destination: President Donald Trump： The 60 Minutes 2020 Election Interview.f251.webm\n",
            "[download] 100% of   16.21MiB in 00:00:00 at 37.08MiB/s  \n",
            "Done downloading, now converting ...\n",
            "\n",
            "[Merger] Merging formats into \"President Donald Trump： The 60 Minutes 2020 Election Interview.webm\"\n",
            "Deleting original file President Donald Trump： The 60 Minutes 2020 Election Interview.f251.webm (pass -k to keep)\n",
            "Deleting original file President Donald Trump： The 60 Minutes 2020 Election Interview.f616.mp4 (pass -k to keep)\n",
            "[VideoConvertor] Converting video from webm to mp4; Destination: President Donald Trump： The 60 Minutes 2020 Election Interview.mp4\n",
            "Deleting original file President Donald Trump： The 60 Minutes 2020 Election Interview.webm (pass -k to keep)\n",
            "[SubtitlesConvertor] Converting subtitles\n",
            "Deleting original file President Donald Trump： The 60 Minutes 2020 Election Interview.en.vtt (pass -k to keep)\n",
            "\n",
            "\u001b[1mDownloading video: Former January 6 committee technical adviser Denver Riggleman: The 60 Minutes Interview\u001b[0m\n",
            "\n",
            "[youtube] Extracting URL: https://www.youtube.com/watch?v=n9adLsXTpZQ\n",
            "[youtube] n9adLsXTpZQ: Downloading webpage\n",
            "[youtube] n9adLsXTpZQ: Downloading ios player API JSON\n",
            "[youtube] n9adLsXTpZQ: Downloading android player API JSON\n",
            "[youtube] n9adLsXTpZQ: Downloading m3u8 information\n",
            "[info] n9adLsXTpZQ: Downloading subtitles: en\n",
            "[info] n9adLsXTpZQ: Downloading 1 format(s): 616+251\n",
            "[info] Writing video subtitles to: Former January 6 committee technical adviser Denver Riggleman： The 60 Minutes Interview.en.vtt\n",
            "[download] Destination: Former January 6 committee technical adviser Denver Riggleman： The 60 Minutes Interview.en.vtt\n",
            "[download] 100% of  110.06KiB in 00:00:00 at 2.53MiB/s\n",
            "Done downloading, now converting ...\n",
            "\n",
            "[hlsnative] Downloading m3u8 manifest\n",
            "[hlsnative] Total fragments: 154\n",
            "[download] Destination: Former January 6 committee technical adviser Denver Riggleman： The 60 Minutes Interview.f616.mp4\n",
            "[download] 100% of  185.83MiB in 00:00:22 at 8.23MiB/s                   \n",
            "Done downloading, now converting ...\n",
            "\n",
            "[download] Destination: Former January 6 committee technical adviser Denver Riggleman： The 60 Minutes Interview.f251.webm\n",
            "[download] 100% of   10.86MiB in 00:00:00 at 32.18MiB/s  \n",
            "Done downloading, now converting ...\n",
            "\n",
            "[Merger] Merging formats into \"Former January 6 committee technical adviser Denver Riggleman： The 60 Minutes Interview.webm\"\n",
            "Deleting original file Former January 6 committee technical adviser Denver Riggleman： The 60 Minutes Interview.f251.webm (pass -k to keep)\n",
            "Deleting original file Former January 6 committee technical adviser Denver Riggleman： The 60 Minutes Interview.f616.mp4 (pass -k to keep)\n",
            "[VideoConvertor] Converting video from webm to mp4; Destination: Former January 6 committee technical adviser Denver Riggleman： The 60 Minutes Interview.mp4\n",
            "Deleting original file Former January 6 committee technical adviser Denver Riggleman： The 60 Minutes Interview.webm (pass -k to keep)\n",
            "[SubtitlesConvertor] Converting subtitles\n",
            "Deleting original file Former January 6 committee technical adviser Denver Riggleman： The 60 Minutes Interview.en.vtt (pass -k to keep)\n",
            "\n",
            "\u001b[1mDownloading video: Oprah's breakout interview on 60 Minutes\u001b[0m\n",
            "\n",
            "[youtube] Extracting URL: https://www.youtube.com/watch?v=n1NftcOkgic\n",
            "[youtube] n1NftcOkgic: Downloading webpage\n",
            "[youtube] n1NftcOkgic: Downloading ios player API JSON\n",
            "[youtube] n1NftcOkgic: Downloading android player API JSON\n",
            "[youtube] n1NftcOkgic: Downloading m3u8 information\n",
            "[info] n1NftcOkgic: Downloading subtitles: en\n",
            "[info] n1NftcOkgic: Downloading 1 format(s): 247+251\n",
            "[info] Writing video subtitles to: Oprah's breakout interview on 60 Minutes.en.vtt\n",
            "[download] Destination: Oprah's breakout interview on 60 Minutes.en.vtt\n",
            "[download] 100% of   99.23KiB in 00:00:00 at 2.43MiB/s\n",
            "Done downloading, now converting ...\n",
            "\n",
            "[download] Destination: Oprah's breakout interview on 60 Minutes.f247.webm\n",
            "[download] 100% of   91.14MiB in 00:00:02 at 37.82MiB/s  \n",
            "Done downloading, now converting ...\n",
            "\n",
            "[download] Destination: Oprah's breakout interview on 60 Minutes.f251.webm\n",
            "[download] 100% of    9.42MiB in 00:00:00 at 32.06MiB/s  \n",
            "Done downloading, now converting ...\n",
            "\n",
            "[Merger] Merging formats into \"Oprah's breakout interview on 60 Minutes.webm\"\n",
            "Deleting original file Oprah's breakout interview on 60 Minutes.f251.webm (pass -k to keep)\n",
            "Deleting original file Oprah's breakout interview on 60 Minutes.f247.webm (pass -k to keep)\n",
            "[VideoConvertor] Converting video from webm to mp4; Destination: Oprah's breakout interview on 60 Minutes.mp4\n",
            "Deleting original file Oprah's breakout interview on 60 Minutes.webm (pass -k to keep)\n",
            "[SubtitlesConvertor] Converting subtitles\n",
            "Deleting original file Oprah's breakout interview on 60 Minutes.en.vtt (pass -k to keep)\n",
            "\n",
            "\u001b[1mDownloading video: [Private video]\u001b[0m\n",
            "\n",
            "[youtube] Extracting URL: https://www.youtube.com/watch?v=3YzCX8Eg6Uc\n",
            "[youtube] 3YzCX8Eg6Uc: Downloading webpage\n",
            "[youtube] 3YzCX8Eg6Uc: Downloading ios player API JSON\n",
            "[youtube] 3YzCX8Eg6Uc: Downloading android player API JSON\n"
          ]
        },
        {
          "metadata": {
            "tags": null
          },
          "name": "stderr",
          "output_type": "stream",
          "text": [
            "ERROR: [youtube] 3YzCX8Eg6Uc: Private video. Sign in if you've been granted access to this video\n"
          ]
        },
        {
          "metadata": {
            "tags": null
          },
          "name": "stdout",
          "output_type": "stream",
          "text": [
            "\n",
            "An error occurred while downloading video: [Private video]. Error: ERROR: [youtube] 3YzCX8Eg6Uc: Private video. Sign in if you've been granted access to this video\n",
            "\n",
            "\u001b[1mDownloading video: [Private video]\u001b[0m\n",
            "\n",
            "[youtube] Extracting URL: https://www.youtube.com/watch?v=Jz1YfvAw5Ow\n",
            "[youtube] Jz1YfvAw5Ow: Downloading webpage\n",
            "[youtube] Jz1YfvAw5Ow: Downloading ios player API JSON\n",
            "[youtube] Jz1YfvAw5Ow: Downloading android player API JSON\n"
          ]
        },
        {
          "metadata": {
            "tags": null
          },
          "name": "stderr",
          "output_type": "stream",
          "text": [
            "ERROR: [youtube] Jz1YfvAw5Ow: Private video. Sign in if you've been granted access to this video\n"
          ]
        },
        {
          "output_type": "stream",
          "name": "stdout",
          "text": [
            "\n",
            "An error occurred while downloading video: [Private video]. Error: ERROR: [youtube] Jz1YfvAw5Ow: Private video. Sign in if you've been granted access to this video\n",
            "\n",
            "\u001b[1mDownloading video: Salman Rushdie: The 60 Minutes Interview (1990)\u001b[0m\n",
            "\n",
            "[youtube] Extracting URL: https://www.youtube.com/watch?v=pIIRv8BkMn4\n",
            "[youtube] pIIRv8BkMn4: Downloading webpage\n",
            "[youtube] pIIRv8BkMn4: Downloading ios player API JSON\n",
            "[youtube] pIIRv8BkMn4: Downloading android player API JSON\n",
            "[youtube] pIIRv8BkMn4: Downloading m3u8 information\n",
            "[info] pIIRv8BkMn4: Downloading subtitles: en\n",
            "[info] pIIRv8BkMn4: Downloading 1 format(s): 248+251\n",
            "[info] Writing video subtitles to: Salman Rushdie： The 60 Minutes Interview (1990).en.vtt\n",
            "[download] Destination: Salman Rushdie： The 60 Minutes Interview (1990).en.vtt\n",
            "[download] 100% of  111.45KiB in 00:00:00 at 2.56MiB/s\n",
            "Done downloading, now converting ...\n",
            "\n",
            "[download] Destination: Salman Rushdie： The 60 Minutes Interview (1990).f248.webm\n",
            "[download] 100% of  110.68MiB in 00:00:03 at 36.88MiB/s  \n",
            "Done downloading, now converting ...\n",
            "\n",
            "[download] Destination: Salman Rushdie： The 60 Minutes Interview (1990).f251.webm\n",
            "[download] 100% of    9.36MiB in 00:00:00 at 33.04MiB/s  \n",
            "Done downloading, now converting ...\n",
            "\n",
            "[Merger] Merging formats into \"Salman Rushdie： The 60 Minutes Interview (1990).webm\"\n",
            "Deleting original file Salman Rushdie： The 60 Minutes Interview (1990).f251.webm (pass -k to keep)\n",
            "Deleting original file Salman Rushdie： The 60 Minutes Interview (1990).f248.webm (pass -k to keep)\n",
            "[VideoConvertor] Converting video from webm to mp4; Destination: Salman Rushdie： The 60 Minutes Interview (1990).mp4\n",
            "Deleting original file Salman Rushdie： The 60 Minutes Interview (1990).webm (pass -k to keep)\n",
            "[SubtitlesConvertor] Converting subtitles\n",
            "Deleting original file Salman Rushdie： The 60 Minutes Interview (1990).en.vtt (pass -k to keep)\n",
            "\n",
            "\u001b[1mDownloading video: Adam Sandler: The 60 Minutes Interview\u001b[0m\n",
            "\n",
            "[youtube] Extracting URL: https://www.youtube.com/watch?v=C2M7j0UuMFY\n",
            "[youtube] C2M7j0UuMFY: Downloading webpage\n",
            "[youtube] C2M7j0UuMFY: Downloading ios player API JSON\n",
            "[youtube] C2M7j0UuMFY: Downloading android player API JSON\n",
            "[youtube] C2M7j0UuMFY: Downloading m3u8 information\n",
            "[info] C2M7j0UuMFY: Downloading subtitles: en\n",
            "[info] C2M7j0UuMFY: Downloading 1 format(s): 616+251\n",
            "[info] Writing video subtitles to: Adam Sandler： The 60 Minutes Interview.en.vtt\n",
            "[download] Destination: Adam Sandler： The 60 Minutes Interview.en.vtt\n",
            "[download] 100% of   97.71KiB in 00:00:00 at 2.12MiB/s\n",
            "Done downloading, now converting ...\n",
            "\n",
            "[hlsnative] Downloading m3u8 manifest\n",
            "[hlsnative] Total fragments: 136\n",
            "[download] Destination: Adam Sandler： The 60 Minutes Interview.f616.mp4\n",
            "[download] 100% of  229.25MiB in 00:00:20 at 11.16MiB/s                  \n",
            "Done downloading, now converting ...\n",
            "\n",
            "[download] Destination: Adam Sandler： The 60 Minutes Interview.f251.webm\n",
            "[download] 100% of    9.74MiB in 00:00:00 at 61.69MiB/s  \n",
            "Done downloading, now converting ...\n",
            "\n",
            "[Merger] Merging formats into \"Adam Sandler： The 60 Minutes Interview.webm\"\n",
            "Deleting original file Adam Sandler： The 60 Minutes Interview.f616.mp4 (pass -k to keep)\n",
            "Deleting original file Adam Sandler： The 60 Minutes Interview.f251.webm (pass -k to keep)\n",
            "[VideoConvertor] Converting video from webm to mp4; Destination: Adam Sandler： The 60 Minutes Interview.mp4\n",
            "Deleting original file Adam Sandler： The 60 Minutes Interview.webm (pass -k to keep)\n",
            "[SubtitlesConvertor] Converting subtitles\n",
            "Deleting original file Adam Sandler： The 60 Minutes Interview.en.vtt (pass -k to keep)\n",
            "\n",
            "\u001b[1mDownloading video: Rick Rubin: The 60 Minutes Interview\u001b[0m\n",
            "\n",
            "[youtube] Extracting URL: https://www.youtube.com/watch?v=EUbUn9FnrME\n",
            "[youtube] EUbUn9FnrME: Downloading webpage\n",
            "[youtube] EUbUn9FnrME: Downloading ios player API JSON\n",
            "[youtube] EUbUn9FnrME: Downloading android player API JSON\n",
            "[youtube] EUbUn9FnrME: Downloading m3u8 information\n",
            "[info] EUbUn9FnrME: Downloading subtitles: en\n",
            "[info] EUbUn9FnrME: Downloading 1 format(s): 616+251\n",
            "[info] Writing video subtitles to: Rick Rubin： The 60 Minutes Interview.en.vtt\n",
            "[download] Destination: Rick Rubin： The 60 Minutes Interview.en.vtt\n",
            "[download] 100% of   98.44KiB in 00:00:00 at 2.18MiB/s\n",
            "Done downloading, now converting ...\n",
            "\n",
            "[hlsnative] Downloading m3u8 manifest\n",
            "[hlsnative] Total fragments: 157\n",
            "[download] Destination: Rick Rubin： The 60 Minutes Interview.f616.mp4\n",
            "[download] 100% of  231.80MiB in 00:00:28 at 8.23MiB/s                   \n",
            "Done downloading, now converting ...\n",
            "\n",
            "[download] Destination: Rick Rubin： The 60 Minutes Interview.f251.webm\n",
            "[download] 100% of   11.86MiB in 00:00:02 at 5.81MiB/s   \n",
            "Done downloading, now converting ...\n",
            "\n",
            "[Merger] Merging formats into \"Rick Rubin： The 60 Minutes Interview.webm\"\n",
            "Deleting original file Rick Rubin： The 60 Minutes Interview.f616.mp4 (pass -k to keep)\n",
            "Deleting original file Rick Rubin： The 60 Minutes Interview.f251.webm (pass -k to keep)\n",
            "[VideoConvertor] Converting video from webm to mp4; Destination: Rick Rubin： The 60 Minutes Interview.mp4\n",
            "Deleting original file Rick Rubin： The 60 Minutes Interview.webm (pass -k to keep)\n",
            "[SubtitlesConvertor] Converting subtitles\n",
            "Deleting original file Rick Rubin： The 60 Minutes Interview.en.vtt (pass -k to keep)\n",
            "\n",
            "Download completed!\n"
          ]
        }
      ],
      "source": [
        "# Ask the user to input the playlist URL\n",
        "playlist_url = input(\"Please enter the YouTube playlist URL: \")\n",
        "\n",
        "# Call the function with the URL input by the user\n",
        "video_and_captions_download(playlist_url)\n"
      ]
    },
    {
      "cell_type": "code",
      "execution_count": 7,
      "metadata": {
        "id": "KbKjTX18-MlX",
        "colab": {
          "base_uri": "https://localhost:8080/"
        },
        "outputId": "64fbf1d0-612c-4c7b-bc8f-c86762d211a0"
      },
      "outputs": [
        {
          "output_type": "stream",
          "name": "stdout",
          "text": [
            "total 1601M\n",
            "-rw-r--r-- 1 root root   1M Oct 30 01:18 'Adam Sandler： The 60 Minutes Interview.en.srt'\n",
            "-rw-r--r-- 1 root root 240M Mar 27  2023 'Adam Sandler： The 60 Minutes Interview.mp4'\n",
            "-rw-r--r-- 1 root root   1M Oct 30 00:25 'Charles Barkley： The 60 Minutes Interview.en.srt'\n",
            "-rw-r--r-- 1 root root 185M Aug  1 09:50 'Charles Barkley： The 60 Minutes Interview.mp4'\n",
            "-rw-r--r-- 1 root root   1M Oct 30 00:57 'Former January 6 committee technical adviser Denver Riggleman： The 60 Minutes Interview.en.srt'\n",
            "-rw-r--r-- 1 root root 182M Sep 26  2022 'Former January 6 committee technical adviser Denver Riggleman： The 60 Minutes Interview.mp4'\n",
            "-rw-r--r-- 1 root root   1M Oct 30 01:05 \"Oprah's breakout interview on 60 Minutes.en.srt\"\n",
            "-rw-r--r-- 1 root root 125M Oct 22  2018 \"Oprah's breakout interview on 60 Minutes.mp4\"\n",
            "-rw-r--r-- 1 root root   1M Oct 30 00:43 'President Donald Trump： The 60 Minutes 2020 Election Interview.en.srt'\n",
            "-rw-r--r-- 1 root root 284M Jan 11  2023 'President Donald Trump： The 60 Minutes 2020 Election Interview.mp4'\n",
            "-rw-r--r-- 1 root root   1M Oct 30 01:27 'Rick Rubin： The 60 Minutes Interview.en.srt'\n",
            "-rw-r--r-- 1 root root 213M May 29 14:26 'Rick Rubin： The 60 Minutes Interview.mp4'\n",
            "-rw-r--r-- 1 root root   1M Oct 30 01:09 'Salman Rushdie： The 60 Minutes Interview (1990).en.srt'\n",
            "-rw-r--r-- 1 root root 195M Aug 16  2022 'Salman Rushdie： The 60 Minutes Interview (1990).mp4'\n",
            "drwxr-xr-x 1 root root   1M Oct 26 13:24  \u001b[0m\u001b[01;34msample_data\u001b[0m/\n",
            "-rw-r--r-- 1 root root   1M Oct 30 00:34 'Trevor Noah： The 60 Minutes Interview.en.srt'\n",
            "-rw-r--r-- 1 root root 180M Jun 20  2022 'Trevor Noah： The 60 Minutes Interview.mp4'\n"
          ]
        }
      ],
      "source": [
        "%ls -l --block-size=M"
      ]
    }
  ],
  "metadata": {
    "accelerator": "GPU",
    "colab": {
      "machine_shape": "hm",
      "provenance": [],
      "include_colab_link": true
    },
    "kernelspec": {
      "display_name": "Python 3",
      "name": "python3"
    },
    "language_info": {
      "codemirror_mode": {
        "name": "ipython",
        "version": 3
      },
      "file_extension": ".py",
      "mimetype": "text/x-python",
      "name": "python",
      "nbconvert_exporter": "python",
      "pygments_lexer": "ipython3",
      "version": "3.11.6"
    }
  },
  "nbformat": 4,
  "nbformat_minor": 0
}